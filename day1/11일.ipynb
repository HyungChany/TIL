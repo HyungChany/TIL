{
 "cells": [
  {
   "cell_type": "code",
   "execution_count": null,
   "metadata": {},
   "outputs": [],
   "source": [
    "import requests\n",
    "\n",
    "url='https://www.dhlottery.co.kr/common.do?method=getLottoNumber&drwNo=1075'\n",
    "\n",
    "result=requests.get(url).json()\n",
    "\n",
    "print(result)\n",
    "\n",
    "for i in range(1,7):\n",
    "    words=\"drwtNo\"+str(i)\n",
    "    print(result[words])"
   ]
  },
  {
   "cell_type": "code",
   "execution_count": null,
   "metadata": {},
   "outputs": [],
   "source": [
    "import os\n",
    "import sys\n",
    "import urllib.request\n",
    "import json\n",
    "\n",
    "def doit(msg):\n",
    "    client_id = \"VlXw0XfIlj8e66SXZXsW\" # 개발자센터에서 발급받은 Client ID 값\n",
    "    client_secret = \" B9RZLpjBJo\" # 개발자센터에서 발급받은 Client Secret 값\n",
    "    encText = urllib.parse.quote(msg)\n",
    "    data = \"source=ko&target=en&text=\" + encText\n",
    "    url = \"https://openapi.naver.com/v1/papago/n2mt\"\n",
    "    request = urllib.request.Request(url)\n",
    "    request.add_header(\"X-Naver-Client-Id\",client_id)\n",
    "    request.add_header(\"X-Naver-Client-Secret\",client_secret)\n",
    "    response = urllib.request.urlopen(request, data=data.encode(\"utf-8\"))\n",
    "    rescode = response.getcode()\n",
    "    if(rescode==200):\n",
    "        response_body = response.read()\n",
    "        print(response_body.decode('utf-8'))\n",
    "        print(type(response_body.decode('utf-8'))) #json 형식의 str \n",
    "        #우리가 할 것은 json 형식의 str -> 차이썬 객체로 바꿔주기 (디코딩 - loads사용)\n",
    "        ret = json.loads(response_body.decode('utf-8'))\n",
    "        print(ret['message']['result']['translatedText'])\n",
    "    else:\n",
    "        print(\"Error Code:\" + rescode)\n",
    "\n",
    "\n",
    "msg=input()\n",
    "doit(msg)"
   ]
  },
  {
   "cell_type": "code",
   "execution_count": null,
   "metadata": {},
   "outputs": [],
   "source": []
  },
  {
   "cell_type": "code",
   "execution_count": null,
   "metadata": {},
   "outputs": [],
   "source": []
  }
 ],
 "metadata": {
  "kernelspec": {
   "display_name": "Python 3",
   "language": "python",
   "name": "python3"
  },
  "language_info": {
   "codemirror_mode": {
    "name": "ipython",
    "version": 3
   },
   "file_extension": ".py",
   "mimetype": "text/x-python",
   "name": "python",
   "nbconvert_exporter": "python",
   "pygments_lexer": "ipython3",
   "version": "3.9.13"
  },
  "orig_nbformat": 4
 },
 "nbformat": 4,
 "nbformat_minor": 2
}
